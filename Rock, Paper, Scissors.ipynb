{
 "cells": [
  {
   "cell_type": "code",
   "execution_count": 1,
   "metadata": {
    "collapsed": false
   },
   "outputs": [
    {
     "name": "stdout",
     "output_type": "stream",
     "text": [
      "Enter rock, paper or scissors User One: paper\n",
      "Enter rock, paper or scissors User Two: scissors\n",
      "User two wins\n"
     ]
    }
   ],
   "source": [
    "# rock, paper, scissors with two users\n",
    "\n",
    "user_one = input(\"Enter rock, paper or scissors User One: \")\n",
    "user_two = input(\"Enter rock, paper or scissors User Two: \")\n",
    "\n",
    "if user_one == user_two:\n",
    "    print(\"You've tied, try again\")\n",
    "elif user_one == \"scissors\" and user_two == \"paper\":\n",
    "    print(\"User one wins\")\n",
    "elif user_one == \"rock\" and user_two == \"scissors\":\n",
    "    print(\"User one wins\")\n",
    "elif user_one == \"paper\" and user_two == \"rock\":\n",
    "    print(\"User one wins\")\n",
    "else:\n",
    "    print(\"User two wins\")"
   ]
  },
  {
   "cell_type": "code",
   "execution_count": 2,
   "metadata": {
    "collapsed": false
   },
   "outputs": [
    {
     "name": "stdout",
     "output_type": "stream",
     "text": [
      "Welcome let's play rock, paper, scissors!\n",
      "Enter rock, paper or scissors User One: rock\n",
      "Enter rock, paper or scissors User Two: rock\n",
      "You've tied, try again\n",
      "Enter rock, paper or scissors User One: paper\n",
      "Enter rock, paper or scissors User Two: paper\n",
      "You've tied, try again\n",
      "Enter rock, paper or scissors User One: scissors\n",
      "Enter rock, paper or scissors User Two: scissors\n",
      "You've tied, try again\n",
      "Enter rock, paper or scissors User One: rock\n",
      "Enter rock, paper or scissors User Two: scissors\n",
      "User one wins\n",
      "Game over!\n"
     ]
    }
   ],
   "source": [
    "# while loop, if players tie keep going\n",
    "print(\"Welcome let's play rock, paper, scissors!\")\n",
    "\n",
    "user_one = input(\"Enter rock, paper or scissors User One: \")\n",
    "user_two = input(\"Enter rock, paper or scissors User Two: \")\n",
    "is_winner = False\n",
    "\n",
    "while not is_winner:\n",
    "    if user_one == user_two:\n",
    "        print(\"You've tied, try again\")\n",
    "        user_one = input(\"Enter rock, paper or scissors User One: \")\n",
    "        user_two = input(\"Enter rock, paper or scissors User Two: \")\n",
    "    elif user_one == \"scissors\" and user_two == \"paper\":\n",
    "        is_winner = True\n",
    "        print(\"User one wins\")\n",
    "    elif user_one == \"rock\" and user_two == \"scissors\":\n",
    "        is_winner = True\n",
    "        print(\"User one wins\")\n",
    "    elif user_one == \"paper\" and user_two == \"rock\":\n",
    "        is_winner = True\n",
    "        print(\"User one wins\")\n",
    "    else:\n",
    "        is_winner = True\n",
    "        print(\"User two wins\")\n",
    "    \n",
    "print(\"Game over!\")"
   ]
  },
  {
   "cell_type": "code",
   "execution_count": 4,
   "metadata": {
    "collapsed": false
   },
   "outputs": [
    {
     "name": "stdout",
     "output_type": "stream",
     "text": [
      "Welcome, let's play rock, paper, scissors!\n",
      "Enter rock, paper or scissors User One: rock\n",
      "paper\n",
      "Computer wins\n",
      "Game over!\n"
     ]
    }
   ],
   "source": [
    "# add a random user (computer)\n",
    "# random.choice(), need to create a list\n",
    "\n",
    "print(\"Welcome, let's play rock, paper, scissors!\")\n",
    "\n",
    "import random\n",
    "game_list = ['rock','paper','scissors']\n",
    "computer = random.choice(game_list)\n",
    "\n",
    "user_one = input(\"Enter rock, paper or scissors User One: \")\n",
    "\n",
    "is_winner = False\n",
    "\n",
    "while not is_winner:\n",
    "    if user_one == computer:\n",
    "        print(\"You've tied, try again\")\n",
    "        user_one = input(\"Enter rock, paper or scissors User One: \")\n",
    "        game_list = ['rock','paper','scissors']\n",
    "        computer = random.choice(game_list)\n",
    "        print(computer)\n",
    "    elif user_one == \"scissors\" and computer == \"paper\":\n",
    "        is_winner = True\n",
    "        print(\"User one wins\")\n",
    "    elif user_one == \"rock\" and computer == \"scissors\":\n",
    "        is_winner = True\n",
    "        print(\"User one wins\")\n",
    "    elif user_one == \"paper\" and computer == \"rock\":\n",
    "        is_winner = True\n",
    "        print(\"User one wins\")\n",
    "    else:\n",
    "        is_winner = True\n",
    "        print(computer)\n",
    "        print(\"Computer wins\")\n",
    "    \n",
    "print(\"Game over!\")"
   ]
  }
 ],
 "metadata": {
  "kernelspec": {
   "display_name": "Python 3",
   "language": "python",
   "name": "python3"
  },
  "language_info": {
   "codemirror_mode": {
    "name": "ipython",
    "version": 3
   },
   "file_extension": ".py",
   "mimetype": "text/x-python",
   "name": "python",
   "nbconvert_exporter": "python",
   "pygments_lexer": "ipython3",
   "version": "3.6.0"
  }
 },
 "nbformat": 4,
 "nbformat_minor": 2
}
