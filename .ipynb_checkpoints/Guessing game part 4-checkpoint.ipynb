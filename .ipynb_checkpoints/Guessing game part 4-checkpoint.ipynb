{
 "cells": [
  {
   "cell_type": "code",
   "execution_count": 6,
   "metadata": {
    "collapsed": false
   },
   "outputs": [
    {
     "name": "stdout",
     "output_type": "stream",
     "text": [
      "I am thinking of a number between 1 and 100\n",
      "What is your guess?: 50\n",
      "Guess lower\n",
      "What is your guess?: 40\n",
      "Guess higher\n",
      "What is your guess?: 45\n",
      "Guess higher\n",
      "What is your guess?: 46\n",
      "Guess higher\n",
      "What is your guess?: 47\n",
      "Good job you won, you guessed the number in 5 tries!\n",
      "Game over\n"
     ]
    }
   ],
   "source": [
    "'''\n",
    "Part 4\n",
    "Now enter a number between 1 and 100, have the computer keep guessing until they guess the correct number\n",
    "Make the computer smart and get it to guess the number correctly within 7 tries\n",
    "\n",
    "'''\n",
    "\n",
    "import random\n",
    "\n",
    "number = random.randint(1,100)\n",
    "guessed_num = 0\n",
    "guesses = 0\n",
    "max_guesses = 7\n",
    "win = False\n",
    "\n",
    "print(\"I am thinking of a number between 1 and 100\")\n",
    "\n",
    "while max_guesses > 0:\n",
    "    guessed_num = int(input(\"What is your guess?: \"))\n",
    "    \n",
    "    max_guesses -= 1\n",
    "    guesses += 1\n",
    "    \n",
    "    if guessed_num > number:\n",
    "        print(\"Guess lower\")\n",
    "    elif guessed_num < number:\n",
    "        print(\"Guess higher\")\n",
    "    else:\n",
    "        print(\"Good job you won, you guessed the number in {} tries!\".format(guesses))\n",
    "        win = True\n",
    "        break\n",
    "        \n",
    "if win == False:\n",
    "    print(\"Sorry you lose! The number I was thinking of was {}\".format(number))\n",
    "    \n",
    "print(\"Game over\")"
   ]
  },
  {
   "cell_type": "code",
   "execution_count": null,
   "metadata": {
    "collapsed": true
   },
   "outputs": [],
   "source": []
  }
 ],
 "metadata": {
  "kernelspec": {
   "display_name": "Python 3",
   "language": "python",
   "name": "python3"
  },
  "language_info": {
   "codemirror_mode": {
    "name": "ipython",
    "version": 3
   },
   "file_extension": ".py",
   "mimetype": "text/x-python",
   "name": "python",
   "nbconvert_exporter": "python",
   "pygments_lexer": "ipython3",
   "version": "3.6.0"
  }
 },
 "nbformat": 4,
 "nbformat_minor": 2
}
