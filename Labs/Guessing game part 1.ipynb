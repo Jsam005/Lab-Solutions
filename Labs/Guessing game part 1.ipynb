{
 "cells": [
  {
   "cell_type": "code",
   "execution_count": 6,
   "metadata": {
    "collapsed": false
   },
   "outputs": [
    {
     "name": "stdout",
     "output_type": "stream",
     "text": [
      "Guess a number between 1 and 10: 7\n",
      "Sorry you guessed wrong, too high\n",
      "Guess a number between 1 and 10: 5\n",
      "Sorry you guessed wrong, too high\n",
      "Guess a number between 1 and 10: 3\n",
      "Sorry you guessed wrong, too low\n",
      "Guess a number between 1 and 10: 4\n",
      "Congratulations\n",
      "Game over\n"
     ]
    }
   ],
   "source": [
    "'''\n",
    "Part 1:\n",
    "Create a program that generates a random number from 1 to 10 (this will be the computer number)\n",
    "Let the user keep guessing until it equals the computer's number\n",
    "If guessed correctly, print Congratulations. If guessed wrong, print sorry you guessed wrong\n",
    "\n",
    "'''\n",
    "\n",
    "import random\n",
    "\n",
    "number = random.randint(1,10)\n",
    "guessed_num = 0\n",
    "\n",
    "while guessed_num != number:\n",
    "    guessed_num = int(input(\"Guess a number between 1 and 10: \"))\n",
    "    if guessed_num == number:\n",
    "        print(\"Congratulations\")\n",
    "    elif guessed_num > number:\n",
    "        print(\"Sorry you guessed wrong, too high\")\n",
    "    else:\n",
    "        print(\"Sorry you guessed wrong, too low\")\n",
    "print(\"Game over\")"
   ]
  },
  {
   "cell_type": "code",
   "execution_count": null,
   "metadata": {
    "collapsed": true
   },
   "outputs": [],
   "source": []
  }
 ],
 "metadata": {
  "kernelspec": {
   "display_name": "Python 3",
   "language": "python",
   "name": "python3"
  },
  "language_info": {
   "codemirror_mode": {
    "name": "ipython",
    "version": 3
   },
   "file_extension": ".py",
   "mimetype": "text/x-python",
   "name": "python",
   "nbconvert_exporter": "python",
   "pygments_lexer": "ipython3",
   "version": "3.6.0"
  }
 },
 "nbformat": 4,
 "nbformat_minor": 2
}
