{
 "cells": [
  {
   "cell_type": "code",
   "execution_count": 2,
   "metadata": {
    "collapsed": false
   },
   "outputs": [
    {
     "name": "stdout",
     "output_type": "stream",
     "text": [
      "What is 20 % 5?0\n",
      "Correct\n",
      "What is 100 % 25?0\n",
      "Correct\n",
      "What is 2 % 1?1\n",
      "Incorrect\n",
      "What is 1 % 2?1\n",
      "Correct\n",
      "What is 5 % 4?1\n",
      "Correct\n",
      "Total correct answers: 4 and total incorrect answers: 1\n"
     ]
    }
   ],
   "source": [
    "'''\n",
    "Use a dictionary to store questions and answers\n",
    "Ask 5 predefined modulus division questions to the user and get their response for each one\n",
    "Keep track of how many right and wrong answers\n",
    "Display results at the end of the math quiz\n",
    "\n",
    "'''\n",
    "\n",
    "quiz = {\"What is 20 % 5?\":\"0\",\"What is 100 % 25?\":\"0\",\"What is 2 % 1?\":\"0\",\"What is 1 % 2?\":\"1\",\"What is 5 % 4?\":\"1\"}\n",
    "total_correct = 0\n",
    "total_incorrect = 0\n",
    "sentence = \"Total correct answers: {} and total incorrect answers: {}\"\n",
    "\n",
    "for key, value in quiz.items():\n",
    "    question = input(key)\n",
    "    \n",
    "    if question == value:\n",
    "        total_correct += 1\n",
    "        print(\"Correct\")\n",
    "    else:\n",
    "        total_incorrect += 1\n",
    "        print(\"Incorrect\")\n",
    "\n",
    "print((sentence.format)(total_correct,total_incorrect))\n"
   ]
  },
  {
   "cell_type": "code",
   "execution_count": null,
   "metadata": {
    "collapsed": true
   },
   "outputs": [],
   "source": []
  }
 ],
 "metadata": {
  "kernelspec": {
   "display_name": "Python 3",
   "language": "python",
   "name": "python3"
  },
  "language_info": {
   "codemirror_mode": {
    "name": "ipython",
    "version": 3
   },
   "file_extension": ".py",
   "mimetype": "text/x-python",
   "name": "python",
   "nbconvert_exporter": "python",
   "pygments_lexer": "ipython3",
   "version": "3.6.0"
  }
 },
 "nbformat": 4,
 "nbformat_minor": 2
}
