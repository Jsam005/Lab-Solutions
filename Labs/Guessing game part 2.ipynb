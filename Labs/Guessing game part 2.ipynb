{
 "cells": [
  {
   "cell_type": "code",
   "execution_count": 1,
   "metadata": {
    "collapsed": false
   },
   "outputs": [
    {
     "name": "stdout",
     "output_type": "stream",
     "text": [
      "Guess a number between 1 and 10: 5\n",
      "Sorry you guessed wrong, too high\n",
      "Guess a number between 1 and 10: 3\n",
      "Sorry you guessed wrong, too low\n",
      "Guess a number between 1 and 10: 4\n",
      "Congratulations\n",
      "Game over\n",
      "Total number of guesses: 3\n"
     ]
    }
   ],
   "source": [
    "'''\n",
    "Part 2:\n",
    "Keep track of how many times the user guesses\n",
    "Return the number of guesses it took to get the correct number at the end of the game\n",
    "\n",
    "'''\n",
    "\n",
    "import random\n",
    "\n",
    "number = random.randint(1,10)\n",
    "guessed_num = 0\n",
    "guesses = 0\n",
    "\n",
    "while guessed_num != number:\n",
    "    guessed_num = int(input(\"Guess a number between 1 and 10: \"))\n",
    "    if guessed_num == number:\n",
    "        print(\"Congratulations\")\n",
    "    elif guessed_num > number:\n",
    "        print(\"Sorry you guessed wrong, too high\")\n",
    "    else:\n",
    "        print(\"Sorry you guessed wrong, too low\")\n",
    "    guesses += 1    \n",
    "\n",
    "print(\"Game over\")\n",
    "print(\"Total number of guesses: {}\".format(guesses))"
   ]
  },
  {
   "cell_type": "code",
   "execution_count": null,
   "metadata": {
    "collapsed": true
   },
   "outputs": [],
   "source": []
  }
 ],
 "metadata": {
  "kernelspec": {
   "display_name": "Python 3",
   "language": "python",
   "name": "python3"
  },
  "language_info": {
   "codemirror_mode": {
    "name": "ipython",
    "version": 3
   },
   "file_extension": ".py",
   "mimetype": "text/x-python",
   "name": "python",
   "nbconvert_exporter": "python",
   "pygments_lexer": "ipython3",
   "version": "3.6.0"
  }
 },
 "nbformat": 4,
 "nbformat_minor": 2
}
