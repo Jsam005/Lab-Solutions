{
 "cells": [
  {
   "cell_type": "code",
   "execution_count": 1,
   "metadata": {
    "collapsed": false
   },
   "outputs": [
    {
     "name": "stdout",
     "output_type": "stream",
     "text": [
      "Type in a sentence you would like converted into Pig Latin: Hi how are you\n",
      "iHay owhay reaay ouyay "
     ]
    }
   ],
   "source": [
    "pig = \"yay\"\n",
    "pigay = \"ay\"\n",
    "'''\n",
    "Create a function that will convert words into pig latin\n",
    "If the first letter begins with a vowel, move that letter to the end of the word and add \"yay\"\n",
    "If the first letter begins with a consonant, move that letter to the end and add \"ay\"\n",
    "\n",
    "'''\n",
    "def pig_converter():\n",
    "\n",
    "    if len(word) > 0 and word.isalpha():\n",
    "        input_word = word.lower()\n",
    "        first_letter = word[0]\n",
    "\n",
    "    if first_letter == ('a' or 'e' or 'i' or 'o' or 'u'):\n",
    "        pig_word = word[1:] + first_letter + pig\n",
    "        print(pig_word)\n",
    "\n",
    "    else:\n",
    "        pig_word = input_word[1:] + first_letter + pigay\n",
    "        print(pig_word)\n",
    "'''\n",
    "Now create a main function that will convert a whole sentence into pig latin\n",
    "\n",
    "'''\n",
    "def main():\n",
    "    \n",
    "    sentence = str(input(\"Type in a sentence you would like converted into Pig Latin: \")).split()\n",
    "    for word in sentence:\n",
    "        print(word[1:] + word[0] + pigay, end = \" \")\n",
    "\n",
    "main()"
   ]
  },
  {
   "cell_type": "code",
   "execution_count": null,
   "metadata": {
    "collapsed": true
   },
   "outputs": [],
   "source": []
  }
 ],
 "metadata": {
  "kernelspec": {
   "display_name": "Python 3",
   "language": "python",
   "name": "python3"
  },
  "language_info": {
   "codemirror_mode": {
    "name": "ipython",
    "version": 3
   },
   "file_extension": ".py",
   "mimetype": "text/x-python",
   "name": "python",
   "nbconvert_exporter": "python",
   "pygments_lexer": "ipython3",
   "version": "3.6.0"
  }
 },
 "nbformat": 4,
 "nbformat_minor": 2
}
