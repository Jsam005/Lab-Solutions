{
 "cells": [
  {
   "cell_type": "code",
   "execution_count": 1,
   "metadata": {
    "collapsed": false
   },
   "outputs": [
    {
     "name": "stdout",
     "output_type": "stream",
     "text": [
      "Guess a number between 1 and 10: 5\n",
      "Sorry you guessed too low\n",
      "Guess a number between 1 and 10: 9\n",
      "Sorry you guessed too high\n",
      "Guess a number between 1 and 10: 7\n",
      "Sorry you've reached the maximum number of tries, you lose\n",
      "Sorry you guessed too high\n",
      "Game over\n",
      "Total number of guesses: 3\n"
     ]
    }
   ],
   "source": [
    "'''\n",
    "Part 3\n",
    "Now give the user a max number of guesses to guess the number correctly\n",
    "\n",
    "'''\n",
    "\n",
    "import random\n",
    "\n",
    "number = random.randint(1,10)\n",
    "guessed_num = 0\n",
    "guesses = 0\n",
    "max_guesses = 1\n",
    "\n",
    "while guessed_num != number and max_guesses < 4:\n",
    "    guessed_num = int(input(\"Guess a number between 1 and 10: \"))\n",
    "    \n",
    "    if max_guesses == 3:\n",
    "        print(\"Sorry you've reached the maximum number of tries, you lose\")\n",
    "    if guessed_num == number:\n",
    "        print(\"Congratulations\")\n",
    "    elif guessed_num > number:\n",
    "        print(\"Sorry you guessed too high\")\n",
    "    else:\n",
    "        print(\"Sorry you guessed too low\")\n",
    "\n",
    "    guesses += 1\n",
    "    max_guesses += 1\n",
    "    \n",
    "print(\"Game over\")\n",
    "print(\"Total number of guesses: {}\".format(guesses))"
   ]
  },
  {
   "cell_type": "code",
   "execution_count": null,
   "metadata": {
    "collapsed": true
   },
   "outputs": [],
   "source": []
  }
 ],
 "metadata": {
  "kernelspec": {
   "display_name": "Python 3",
   "language": "python",
   "name": "python3"
  },
  "language_info": {
   "codemirror_mode": {
    "name": "ipython",
    "version": 3
   },
   "file_extension": ".py",
   "mimetype": "text/x-python",
   "name": "python",
   "nbconvert_exporter": "python",
   "pygments_lexer": "ipython3",
   "version": "3.6.0"
  }
 },
 "nbformat": 4,
 "nbformat_minor": 2
}
