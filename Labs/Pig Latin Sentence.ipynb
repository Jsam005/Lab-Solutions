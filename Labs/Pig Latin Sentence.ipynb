{
 "cells": [
  {
   "cell_type": "code",
   "execution_count": 4,
   "metadata": {
    "collapsed": false
   },
   "outputs": [
    {
     "ename": "SyntaxError",
     "evalue": "invalid syntax (<ipython-input-4-309ca9ee623c>, line 31)",
     "output_type": "error",
     "traceback": [
      "\u001b[0;36m  File \u001b[0;32m\"<ipython-input-4-309ca9ee623c>\"\u001b[0;36m, line \u001b[0;32m31\u001b[0m\n\u001b[0;31m    return sentence + \"yay\".join(for word in sentence.split())\u001b[0m\n\u001b[0m                                   ^\u001b[0m\n\u001b[0;31mSyntaxError\u001b[0m\u001b[0;31m:\u001b[0m invalid syntax\n"
     ]
    }
   ],
   "source": [
    "\n",
    "'''\n",
    "Create a function that will convert words into pig latin\n",
    "If the first letter begins with a vowel, move that letter to the end of the word and add \"yay\"\n",
    "If the first letter begins with a consonant, move that letter to the end and add \"ay\"\n",
    "\n",
    "'''\n",
    "def pig_converter():\n",
    "\n",
    "    if len(word) > 0 and word.isalpha():\n",
    "        input_word = word.lower()\n",
    "        first_letter = word[0]\n",
    "\n",
    "    if first_letter == ('a' or 'e' or 'i' or 'o' or 'u'):\n",
    "        pig_word = word[1:] + first_letter + \"yay\"\n",
    "        print(pig_word)\n",
    "\n",
    "    else:\n",
    "        pig_word = input_word[1:] + first_letter + \"ay\"\n",
    "        print(pig_word)\n",
    "'''\n",
    "Now create a main function that will convert a whole sentence into pig latin\n",
    "\n",
    "'''\n",
    "def main():\n",
    "    vowels = [\"a\",\"e\",\"i\",\"o\",\"u\"]\n",
    "    sentence = str(input(\"Type in a sentence you would like converted into Pig Latin: \")).split()\n",
    "    \n",
    "    for word in sentence:\n",
    "        if word[0] in vowels:\n",
    "            return sentence + \"yay\".join(for word in sentence.split())\n",
    "        else:\n",
    "            return(word[1:] + word[0] + \"ay\").join(for word in sentence.split())\n",
    "\n",
    "main()"
   ]
  },
  {
   "cell_type": "code",
   "execution_count": null,
   "metadata": {
    "collapsed": true
   },
   "outputs": [],
   "source": []
  }
 ],
 "metadata": {
  "kernelspec": {
   "display_name": "Python 3",
   "language": "python",
   "name": "python3"
  },
  "language_info": {
   "codemirror_mode": {
    "name": "ipython",
    "version": 3
   },
   "file_extension": ".py",
   "mimetype": "text/x-python",
   "name": "python",
   "nbconvert_exporter": "python",
   "pygments_lexer": "ipython3",
   "version": "3.6.0"
  }
 },
 "nbformat": 4,
 "nbformat_minor": 2
}
