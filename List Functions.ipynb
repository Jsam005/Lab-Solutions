{
 "cells": [
  {
   "cell_type": "code",
   "execution_count": 1,
   "metadata": {
    "collapsed": false
   },
   "outputs": [
    {
     "ename": "IndentationError",
     "evalue": "expected an indented block (<ipython-input-1-82d1b3e69815>, line 15)",
     "output_type": "error",
     "traceback": [
      "\u001b[0;36m  File \u001b[0;32m\"<ipython-input-1-82d1b3e69815>\"\u001b[0;36m, line \u001b[0;32m15\u001b[0m\n\u001b[0;31m    x = reversed(numbers)\u001b[0m\n\u001b[0m    ^\u001b[0m\n\u001b[0;31mIndentationError\u001b[0m\u001b[0;31m:\u001b[0m expected an indented block\n"
     ]
    }
   ],
   "source": [
    "numbers = [4,5,5,6,7,3,7,5,8,6,8,9,9,8,5,5]\n",
    "\n",
    "'''\n",
    "Slices the last number from the list (aka deletes it)\n",
    "and returns it as an integer\n",
    "'''\n",
    "def slice_last(num_list):\n",
    "    num_list = numbers\n",
    "    return num_list\n",
    "\n",
    "slice_last(numbers.pop())\n",
    "\n",
    "'''\n",
    "Reverse the order of the list and returns the list\n",
    "'''\n",
    "def reverse_list(num_list):\n",
    "    num_list = numbers\n",
    "    return num_list\n",
    "\n",
    "reverse_list(numbers.reverse())\n",
    "\n",
    "'''\n",
    "Double every other element in the reversed list.\n",
    "returns the list\n",
    "'''\n",
    "def double_every_other(num_list):\n",
    "    num_list = numbers.reverse()\n",
    "    return numbers\n",
    "\n",
    "double_every_other(numbers.append(numbers[::2]))\n",
    "\n",
    "'''\n",
    "Subtract nine from numbers over nine.\n",
    "returns the list\n",
    "'''\n",
    "def subtract_from_digits(num_list):\n",
    "    \n",
    "        \n",
    "\n",
    "'''\n",
    "Sum all values.\n",
    "returns the sum\n",
    "'''\n",
    "def sum_values(num_list):\n",
    "    num_list = numbers\n",
    "    return (sum(num_list))\n",
    "\n",
    "sum(numbers)\n",
    "\n",
    "def main():\n",
    "    # Call all functions here\n",
    "    pass\n",
    "\n",
    "\n",
    "main()"
   ]
  },
  {
   "cell_type": "code",
   "execution_count": null,
   "metadata": {
    "collapsed": true
   },
   "outputs": [],
   "source": []
  }
 ],
 "metadata": {
  "kernelspec": {
   "display_name": "Python 3",
   "language": "python",
   "name": "python3"
  },
  "language_info": {
   "codemirror_mode": {
    "name": "ipython",
    "version": 3
   },
   "file_extension": ".py",
   "mimetype": "text/x-python",
   "name": "python",
   "nbconvert_exporter": "python",
   "pygments_lexer": "ipython3",
   "version": "3.6.0"
  }
 },
 "nbformat": 4,
 "nbformat_minor": 2
}
