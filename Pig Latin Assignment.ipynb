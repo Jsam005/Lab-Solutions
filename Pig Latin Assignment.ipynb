{
 "cells": [
  {
   "cell_type": "code",
   "execution_count": 10,
   "metadata": {
    "collapsed": false
   },
   "outputs": [
    {
     "name": "stdout",
     "output_type": "stream",
     "text": [
      "Enter a word to translate into Pig Latin: apple\n",
      "ppleyay\n",
      "\n"
     ]
    }
   ],
   "source": [
    "'''\n",
    "Need user to input a word to translate to pig latin\n",
    "For all words move the first letter to the end of the word\n",
    "Any word beginning with a vowel with end in \"yay\"\n",
    "Any other word beginning with a consonant will end with an \"ay\" \n",
    "\n",
    "'''\n",
    "word = input(\"Enter a word to translate into Pig Latin: \")\n",
    "pig = \"yay\"\n",
    "pigay = \"ay\"\n",
    "\n",
    "if len(word) > 0 and word.isalpha():\n",
    "    input_word = word.lower()\n",
    "    first_letter = word[0]\n",
    "\n",
    "if first_letter == ('a' or 'e' or 'i' or 'o' or 'u'):\n",
    "    pig_word = word[1:] + first_letter + pig\n",
    "    print(pig_word)\n",
    "\n",
    "else:\n",
    "    pig_word = input_word[1:] + first_letter + pigay\n",
    "    print(pig_word)\n",
    "    \n",
    "print()"
   ]
  },
  {
   "cell_type": "code",
   "execution_count": null,
   "metadata": {
    "collapsed": true
   },
   "outputs": [],
   "source": []
  }
 ],
 "metadata": {
  "kernelspec": {
   "display_name": "Python 3",
   "language": "python",
   "name": "python3"
  },
  "language_info": {
   "codemirror_mode": {
    "name": "ipython",
    "version": 3
   },
   "file_extension": ".py",
   "mimetype": "text/x-python",
   "name": "python",
   "nbconvert_exporter": "python",
   "pygments_lexer": "ipython3",
   "version": "3.6.0"
  }
 },
 "nbformat": 4,
 "nbformat_minor": 2
}
